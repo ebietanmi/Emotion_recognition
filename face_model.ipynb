{
 "cells": [
  {
   "cell_type": "code",
   "execution_count": 4,
   "metadata": {},
   "outputs": [
    {
     "name": "stderr",
     "output_type": "stream",
     "text": [
      "Using TensorFlow backend.\n"
     ]
    }
   ],
   "source": [
    "import sys\n",
    "import os\n",
    "import numpy as np\n",
    "import cv2\n",
    "from keras.models import Sequential\n",
    "from keras.layers import Dense,Dropout,Activation,Flatten\n",
    "from keras.layers import Conv2D,MaxPooling2D,BatchNormalization\n",
    "from keras.losses import categorical_crossentropy\n",
    "from keras.optimizers import Adam\n",
    "from keras.regularizers import l2\n",
    "from keras.utils import  np_utils\n",
    "import pandas as pd\n"
   ]
  },
  {
   "cell_type": "code",
   "execution_count": 8,
   "metadata": {},
   "outputs": [],
   "source": [
    "df = pd.read_csv('fer2013.csv')"
   ]
  },
  {
   "cell_type": "code",
   "execution_count": 9,
   "metadata": {},
   "outputs": [
    {
     "name": "stdout",
     "output_type": "stream",
     "text": [
      "<class 'pandas.core.frame.DataFrame'>\n",
      "RangeIndex: 35887 entries, 0 to 35886\n",
      "Data columns (total 3 columns):\n",
      " #   Column   Non-Null Count  Dtype \n",
      "---  ------   --------------  ----- \n",
      " 0   emotion  35887 non-null  int64 \n",
      " 1   pixels   35887 non-null  object\n",
      " 2   Usage    35887 non-null  object\n",
      "dtypes: int64(1), object(2)\n",
      "memory usage: 841.2+ KB\n",
      "None\n"
     ]
    }
   ],
   "source": [
    "print(df.info())"
   ]
  },
  {
   "cell_type": "code",
   "execution_count": 84,
   "metadata": {},
   "outputs": [
    {
     "name": "stdout",
     "output_type": "stream",
     "text": [
      "Training       28709\n",
      "PublicTest      3589\n",
      "PrivateTest     3589\n",
      "Name: Usage, dtype: int64\n"
     ]
    }
   ],
   "source": [
    "print(df['Usage'].value_counts())"
   ]
  },
  {
   "cell_type": "code",
   "execution_count": 85,
   "metadata": {},
   "outputs": [
    {
     "name": "stdout",
     "output_type": "stream",
     "text": [
      "   emotion                                             pixels     Usage\n",
      "0        0  70 80 82 72 58 58 60 63 54 58 60 48 89 115 121...  Training\n",
      "1        0  151 150 147 155 148 133 111 140 170 174 182 15...  Training\n",
      "2        2  231 212 156 164 174 138 161 173 182 200 106 38...  Training\n",
      "3        4  24 32 36 30 32 23 19 20 30 41 21 22 32 34 21 1...  Training\n",
      "4        6  4 0 0 0 0 0 0 0 0 0 0 0 3 15 23 28 48 50 58 84...  Training\n"
     ]
    }
   ],
   "source": [
    "print(df.head())"
   ]
  },
  {
   "cell_type": "code",
   "execution_count": 10,
   "metadata": {},
   "outputs": [],
   "source": [
    "X_train,train_y,X_test,test_y = [],[],[],[]"
   ]
  },
  {
   "cell_type": "code",
   "execution_count": 11,
   "metadata": {},
   "outputs": [],
   "source": [
    "for index, row in df.iterrows():\n",
    "    val = row['pixels'].split(\" \")\n",
    "    try:\n",
    "        if 'Training' in row[\"Usage\"]:\n",
    "            X_train.append(np.array(val,'float32'))\n",
    "            train_y.append(row[\"emotion\"])\n",
    "            \n",
    "        elif 'PublicTest' in row[\"Usage\"]:\n",
    "                X_test.append(np.array(val,'float32'))\n",
    "                test_y.append(row['emotion'])\n",
    "    except:\n",
    "        print(f\"error occured at index:{index} and row:{row}\")\n",
    "            \n",
    " "
   ]
  },
  {
   "cell_type": "code",
   "execution_count": 29,
   "metadata": {},
   "outputs": [],
   "source": [
    "# print(f\"X_train sample data:{X_train[0:2]}\")\n",
    "# print(f\"train_y sample data:{train_y[0:2]}\")\n",
    "# print(f\"X_test sample data:{X_test[0:2]}\")\n",
    "# print(f\"test_y sample data:{test_y[0:2]}\")"
   ]
  },
  {
   "cell_type": "code",
   "execution_count": 30,
   "metadata": {},
   "outputs": [
    {
     "data": {
      "text/plain": [
       "array([[[-0.6098866 ],\n",
       "        [-0.4592209 ],\n",
       "        [-0.40325198],\n",
       "        ...,\n",
       "        [-0.7694696 ],\n",
       "        [-0.90518403],\n",
       "        [-0.95160526]],\n",
       "\n",
       "       [[-0.66049284],\n",
       "        [-0.68162924],\n",
       "        [-0.694159  ],\n",
       "        ...,\n",
       "        [-0.7112763 ],\n",
       "        [-0.7862608 ],\n",
       "        [-0.90819967]],\n",
       "\n",
       "       [[-0.83170736],\n",
       "        [-0.8952668 ],\n",
       "        [-0.73603356],\n",
       "        ...,\n",
       "        [-0.7924775 ],\n",
       "        [-0.7261497 ],\n",
       "        [-0.8613453 ]],\n",
       "\n",
       "       ...,\n",
       "\n",
       "       [[-0.33269772],\n",
       "        [-0.6514918 ],\n",
       "        [-0.93670547],\n",
       "        ...,\n",
       "        [-0.5265123 ],\n",
       "        [-0.7377333 ],\n",
       "        [-0.9078971 ]],\n",
       "\n",
       "       [[-0.5099617 ],\n",
       "        [-0.43692893],\n",
       "        [-0.46537215],\n",
       "        ...,\n",
       "        [-0.10019822],\n",
       "        [-0.5580577 ],\n",
       "        [-0.86989194]],\n",
       "\n",
       "       [[-0.5095401 ],\n",
       "        [-0.56317693],\n",
       "        [-0.3986179 ],\n",
       "        ...,\n",
       "        [-0.08629682],\n",
       "        [-0.0573744 ],\n",
       "        [-0.41127437]]], dtype=float32)"
      ]
     },
     "execution_count": 30,
     "metadata": {},
     "output_type": "execute_result"
    }
   ],
   "source": [
    "X_train[0]"
   ]
  },
  {
   "cell_type": "code",
   "execution_count": 12,
   "metadata": {},
   "outputs": [],
   "source": [
    "X_train = np.array(X_train,'float32')\n",
    "train_y = np.array(train_y,'float32')\n",
    "X_test = np.array(X_test,'float32')\n",
    "test_y = np.array(test_y,'float32')"
   ]
  },
  {
   "cell_type": "code",
   "execution_count": 13,
   "metadata": {},
   "outputs": [],
   "source": [
    "# normalising data between 0 and 1\n",
    "\n",
    "X_train-=np.mean(X_train,axis= 0)\n",
    "X_train/=np.std(X_train,axis= 0)\n",
    "\n",
    "X_test-=np.mean(X_test,axis= 0)\n",
    "X_test/=np.std(X_test,axis= 0)\n"
   ]
  },
  {
   "cell_type": "code",
   "execution_count": 31,
   "metadata": {},
   "outputs": [],
   "source": [
    "number_features = 64\n",
    "number_labels = 7\n",
    "batch_size = 256\n",
    "epochs = 50\n",
    "width,height = 48,48"
   ]
  },
  {
   "cell_type": "code",
   "execution_count": 15,
   "metadata": {},
   "outputs": [],
   "source": [
    "X_train =X_train.reshape(X_train.shape[0],width,height,1)\n",
    "X_test =X_test.reshape(X_test.shape[0],width,height,1)\n",
    "\n",
    "train_y =np_utils.to_categorical(train_y,num_classes=number_labels)\n",
    "test_y =np_utils.to_categorical(test_y,num_classes=number_labels)\n"
   ]
  },
  {
   "cell_type": "code",
   "execution_count": 16,
   "metadata": {},
   "outputs": [],
   "source": [
    "model = Sequential()"
   ]
  },
  {
   "cell_type": "code",
   "execution_count": 17,
   "metadata": {},
   "outputs": [],
   "source": [
    "# cnn design\n",
    "# first layer\n",
    "\n",
    "model.add(Conv2D(number_features,kernel_size=(3,3),\n",
    "                 activation='relu',input_shape = (X_train.shape[1:])))\n",
    "\n",
    "model.add(Conv2D(number_features,kernel_size=(3,3),\n",
    "                 activation='relu'))\n",
    "          \n",
    "model.add(MaxPooling2D(pool_size=(2,2),strides=(2,2)))\n",
    "\n",
    "model.add(Dropout(0.5))"
   ]
  },
  {
   "cell_type": "code",
   "execution_count": 18,
   "metadata": {},
   "outputs": [],
   "source": [
    "# second layer\n",
    "          \n",
    "model.add(Conv2D(number_features,kernel_size=(3,3), activation='relu'))\n",
    "\n",
    "model.add(Conv2D(number_features,kernel_size=(3,3), activation='relu'))\n",
    "          \n",
    "model.add(MaxPooling2D(pool_size=(2,2), strides=(2,2)))\n",
    "\n",
    "model.add(Dropout(0.5))\n",
    "          "
   ]
  },
  {
   "cell_type": "code",
   "execution_count": 19,
   "metadata": {},
   "outputs": [],
   "source": [
    "          \n",
    "# third layer\n",
    "          \n",
    "model.add(Conv2D(2*number_features,kernel_size=(3,3),activation ='relu'))\n",
    "\n",
    "model.add(Conv2D(2*number_features,kernel_size=(3,3),activation = 'relu'))\n",
    "          \n",
    "model.add(MaxPooling2D(pool_size=(2,2), strides=(2,2)))"
   ]
  },
  {
   "cell_type": "code",
   "execution_count": 20,
   "metadata": {},
   "outputs": [],
   "source": [
    "model.add(Flatten())\n",
    "\n",
    "model.add(Dense(2*2*2*2*number_features, activation = 'relu'))\n",
    "model.add(Dropout(0.2))\n",
    "\n",
    "model.add(Dense(2*2*2*2*number_features, activation = 'relu'))\n",
    "model.add(Dropout(0.2))\n",
    "          \n",
    "model.add(Dense(number_labels,activation='softmax'))  "
   ]
  },
  {
   "cell_type": "code",
   "execution_count": 21,
   "metadata": {},
   "outputs": [],
   "source": [
    "model.compile(loss = categorical_crossentropy,\n",
    "              optimizer = Adam(), metrics = ['accuracy'])"
   ]
  },
  {
   "cell_type": "code",
   "execution_count": 32,
   "metadata": {},
   "outputs": [
    {
     "name": "stdout",
     "output_type": "stream",
     "text": [
      "Train on 28709 samples, validate on 3589 samples\n",
      "Epoch 1/50\n",
      "28709/28709 [==============================] - 855s 30ms/step - loss: 1.1875 - accuracy: 0.5472 - val_loss: 1.1999 - val_accuracy: 0.5430\n",
      "Epoch 2/50\n",
      "28709/28709 [==============================] - 826s 29ms/step - loss: 1.1578 - accuracy: 0.5567 - val_loss: 1.1863 - val_accuracy: 0.5483\n",
      "Epoch 3/50\n",
      "28709/28709 [==============================] - 825s 29ms/step - loss: 1.1181 - accuracy: 0.5730 - val_loss: 1.1713 - val_accuracy: 0.5645\n",
      "Epoch 4/50\n",
      "28709/28709 [==============================] - 820s 29ms/step - loss: 1.0925 - accuracy: 0.5812 - val_loss: 1.1561 - val_accuracy: 0.5637\n",
      "Epoch 5/50\n",
      "28709/28709 [==============================] - 822s 29ms/step - loss: 1.0601 - accuracy: 0.5953 - val_loss: 1.1388 - val_accuracy: 0.5692\n",
      "Epoch 6/50\n",
      "28709/28709 [==============================] - 820s 29ms/step - loss: 1.0368 - accuracy: 0.6040 - val_loss: 1.1575 - val_accuracy: 0.5634\n",
      "Epoch 7/50\n",
      "28709/28709 [==============================] - 821s 29ms/step - loss: 1.0091 - accuracy: 0.6166 - val_loss: 1.1315 - val_accuracy: 0.5793\n",
      "Epoch 8/50\n",
      "28709/28709 [==============================] - 822s 29ms/step - loss: 0.9827 - accuracy: 0.6257 - val_loss: 1.1343 - val_accuracy: 0.5782\n",
      "Epoch 9/50\n",
      "28709/28709 [==============================] - 824s 29ms/step - loss: 0.9530 - accuracy: 0.6382 - val_loss: 1.1356 - val_accuracy: 0.5765\n",
      "Epoch 10/50\n",
      "28709/28709 [==============================] - 822s 29ms/step - loss: 0.9197 - accuracy: 0.6495 - val_loss: 1.1405 - val_accuracy: 0.5862\n",
      "Epoch 11/50\n",
      "28709/28709 [==============================] - 819s 29ms/step - loss: 0.9091 - accuracy: 0.6558 - val_loss: 1.1411 - val_accuracy: 0.5731\n",
      "Epoch 12/50\n",
      "28709/28709 [==============================] - 820s 29ms/step - loss: 0.8734 - accuracy: 0.6672 - val_loss: 1.1469 - val_accuracy: 0.5882\n",
      "Epoch 13/50\n",
      "28709/28709 [==============================] - 821s 29ms/step - loss: 0.8455 - accuracy: 0.6807 - val_loss: 1.1516 - val_accuracy: 0.5745\n",
      "Epoch 14/50\n",
      "28709/28709 [==============================] - 818s 28ms/step - loss: 0.8254 - accuracy: 0.6889 - val_loss: 1.2173 - val_accuracy: 0.5731\n",
      "Epoch 15/50\n",
      "28709/28709 [==============================] - 813s 28ms/step - loss: 0.7993 - accuracy: 0.6971 - val_loss: 1.1930 - val_accuracy: 0.5790\n",
      "Epoch 16/50\n",
      "28709/28709 [==============================] - 890s 31ms/step - loss: 0.7752 - accuracy: 0.7089 - val_loss: 1.1928 - val_accuracy: 0.5812\n",
      "Epoch 17/50\n",
      "28709/28709 [==============================] - 821s 29ms/step - loss: 0.7531 - accuracy: 0.7138 - val_loss: 1.2225 - val_accuracy: 0.5890\n",
      "Epoch 18/50\n",
      "28709/28709 [==============================] - 824s 29ms/step - loss: 0.7299 - accuracy: 0.7291 - val_loss: 1.2320 - val_accuracy: 0.5879\n",
      "Epoch 19/50\n",
      "28709/28709 [==============================] - 844s 29ms/step - loss: 0.6969 - accuracy: 0.7367 - val_loss: 1.2914 - val_accuracy: 0.5818\n",
      "Epoch 20/50\n",
      "28709/28709 [==============================] - 822s 29ms/step - loss: 0.6869 - accuracy: 0.7410 - val_loss: 1.2764 - val_accuracy: 0.5857\n",
      "Epoch 21/50\n",
      "28709/28709 [==============================] - 8544s 298ms/step - loss: 0.6614 - accuracy: 0.7551 - val_loss: 1.2922 - val_accuracy: 0.5846\n",
      "Epoch 22/50\n",
      "28709/28709 [==============================] - 822s 29ms/step - loss: 0.6414 - accuracy: 0.7580 - val_loss: 1.2604 - val_accuracy: 0.5915\n",
      "Epoch 23/50\n",
      "28709/28709 [==============================] - 820s 29ms/step - loss: 0.6201 - accuracy: 0.7664 - val_loss: 1.3371 - val_accuracy: 0.5821\n",
      "Epoch 24/50\n",
      "28709/28709 [==============================] - 819s 29ms/step - loss: 0.6027 - accuracy: 0.7755 - val_loss: 1.3300 - val_accuracy: 0.5882\n",
      "Epoch 25/50\n",
      "28709/28709 [==============================] - 819s 29ms/step - loss: 0.5895 - accuracy: 0.7811 - val_loss: 1.3482 - val_accuracy: 0.5862\n",
      "Epoch 26/50\n",
      "28709/28709 [==============================] - 814s 28ms/step - loss: 0.5631 - accuracy: 0.7886 - val_loss: 1.4127 - val_accuracy: 0.5848\n",
      "Epoch 27/50\n",
      "28709/28709 [==============================] - 818s 28ms/step - loss: 0.5472 - accuracy: 0.7969 - val_loss: 1.4056 - val_accuracy: 0.5798\n",
      "Epoch 28/50\n",
      "28709/28709 [==============================] - 817s 28ms/step - loss: 0.5274 - accuracy: 0.8058 - val_loss: 1.3940 - val_accuracy: 0.5868\n",
      "Epoch 29/50\n",
      "28709/28709 [==============================] - 816s 28ms/step - loss: 0.5159 - accuracy: 0.8081 - val_loss: 1.4606 - val_accuracy: 0.5893\n",
      "Epoch 30/50\n",
      "28709/28709 [==============================] - 975s 34ms/step - loss: 0.5015 - accuracy: 0.8164 - val_loss: 1.4565 - val_accuracy: 0.5874\n",
      "Epoch 31/50\n",
      "28709/28709 [==============================] - 9479s 330ms/step - loss: 0.4873 - accuracy: 0.8155 - val_loss: 1.4718 - val_accuracy: 0.5882\n",
      "Epoch 32/50\n",
      "28709/28709 [==============================] - 828s 29ms/step - loss: 0.4731 - accuracy: 0.8226 - val_loss: 1.5049 - val_accuracy: 0.5868\n",
      "Epoch 33/50\n",
      "28709/28709 [==============================] - 823s 29ms/step - loss: 0.4620 - accuracy: 0.8307 - val_loss: 1.4461 - val_accuracy: 0.5798\n",
      "Epoch 34/50\n",
      "28709/28709 [==============================] - 823s 29ms/step - loss: 0.4465 - accuracy: 0.8359 - val_loss: 1.5355 - val_accuracy: 0.5915\n",
      "Epoch 35/50\n",
      "28709/28709 [==============================] - 822s 29ms/step - loss: 0.4476 - accuracy: 0.8355 - val_loss: 1.4732 - val_accuracy: 0.5765\n",
      "Epoch 36/50\n",
      "28709/28709 [==============================] - 822s 29ms/step - loss: 0.4309 - accuracy: 0.8428 - val_loss: 1.5558 - val_accuracy: 0.5826\n",
      "Epoch 37/50\n",
      "28709/28709 [==============================] - 823s 29ms/step - loss: 0.4217 - accuracy: 0.8458 - val_loss: 1.6024 - val_accuracy: 0.5815\n",
      "Epoch 38/50\n",
      "28709/28709 [==============================] - 822s 29ms/step - loss: 0.4133 - accuracy: 0.8503 - val_loss: 1.6460 - val_accuracy: 0.5762\n",
      "Epoch 39/50\n",
      "28709/28709 [==============================] - 822s 29ms/step - loss: 0.4055 - accuracy: 0.8518 - val_loss: 1.5553 - val_accuracy: 0.5874\n",
      "Epoch 40/50\n",
      "28709/28709 [==============================] - 823s 29ms/step - loss: 0.3921 - accuracy: 0.8559 - val_loss: 1.5939 - val_accuracy: 0.5960\n",
      "Epoch 41/50\n",
      "28709/28709 [==============================] - 822s 29ms/step - loss: 0.3834 - accuracy: 0.8587 - val_loss: 1.6640 - val_accuracy: 0.5913\n",
      "Epoch 42/50\n",
      "28709/28709 [==============================] - 821s 29ms/step - loss: 0.3670 - accuracy: 0.8678 - val_loss: 1.6956 - val_accuracy: 0.5899\n",
      "Epoch 43/50\n",
      "28709/28709 [==============================] - 823s 29ms/step - loss: 0.3604 - accuracy: 0.8677 - val_loss: 1.6626 - val_accuracy: 0.5879\n",
      "Epoch 44/50\n",
      "28709/28709 [==============================] - 822s 29ms/step - loss: 0.3632 - accuracy: 0.8646 - val_loss: 1.7273 - val_accuracy: 0.5940\n",
      "Epoch 45/50\n",
      "28709/28709 [==============================] - 824s 29ms/step - loss: 0.3460 - accuracy: 0.8742 - val_loss: 1.7227 - val_accuracy: 0.5815\n",
      "Epoch 46/50\n",
      "28709/28709 [==============================] - 822s 29ms/step - loss: 0.3482 - accuracy: 0.8738 - val_loss: 1.6862 - val_accuracy: 0.5868\n",
      "Epoch 47/50\n",
      "28709/28709 [==============================] - 823s 29ms/step - loss: 0.3382 - accuracy: 0.8786 - val_loss: 1.7252 - val_accuracy: 0.5865\n",
      "Epoch 48/50\n",
      "28709/28709 [==============================] - 823s 29ms/step - loss: 0.3389 - accuracy: 0.8778 - val_loss: 1.7643 - val_accuracy: 0.5865\n",
      "Epoch 49/50\n",
      "28709/28709 [==============================] - 824s 29ms/step - loss: 0.3382 - accuracy: 0.8796 - val_loss: 1.7249 - val_accuracy: 0.5871\n",
      "Epoch 50/50\n",
      "28709/28709 [==============================] - 822s 29ms/step - loss: 0.3140 - accuracy: 0.8865 - val_loss: 1.7718 - val_accuracy: 0.5938\n"
     ]
    },
    {
     "data": {
      "text/plain": [
       "<keras.callbacks.callbacks.History at 0xd78fdc55c8>"
      ]
     },
     "execution_count": 32,
     "metadata": {},
     "output_type": "execute_result"
    }
   ],
   "source": [
    "model.fit(X_train,train_y, batch_size = batch_size,\n",
    "          epochs= epochs,\n",
    "          verbose = 1,\n",
    "          validation_data =(X_test,test_y), shuffle = True)"
   ]
  },
  {
   "cell_type": "code",
   "execution_count": 200,
   "metadata": {},
   "outputs": [],
   "source": [
    "# fer_json = model.to_json()"
   ]
  },
  {
   "cell_type": "code",
   "execution_count": 201,
   "metadata": {},
   "outputs": [],
   "source": [
    "# with open(\"fer.json\",\"w\") as json_file:\n",
    "#     json_file.write(fer_json)"
   ]
  },
  {
   "cell_type": "code",
   "execution_count": 202,
   "metadata": {},
   "outputs": [],
   "source": [
    "# model.save_weights(\"fer.h5\")"
   ]
  },
  {
   "cell_type": "code",
   "execution_count": 33,
   "metadata": {},
   "outputs": [],
   "source": [
    "fer_json1 = model.to_json()\n",
    "\n",
    "with open(\"fer.json1\",\"w\") as json_file:\n",
    "    json_file.write(fer_json1)\n",
    "    \n",
    "model.save_weights(\"fer_1.h5\")"
   ]
  },
  {
   "cell_type": "code",
   "execution_count": null,
   "metadata": {},
   "outputs": [],
   "source": []
  }
 ],
 "metadata": {
  "kernelspec": {
   "display_name": "Python 3",
   "language": "python",
   "name": "python3"
  },
  "language_info": {
   "codemirror_mode": {
    "name": "ipython",
    "version": 3
   },
   "file_extension": ".py",
   "mimetype": "text/x-python",
   "name": "python",
   "nbconvert_exporter": "python",
   "pygments_lexer": "ipython3",
   "version": "3.7.7"
  }
 },
 "nbformat": 4,
 "nbformat_minor": 4
}
